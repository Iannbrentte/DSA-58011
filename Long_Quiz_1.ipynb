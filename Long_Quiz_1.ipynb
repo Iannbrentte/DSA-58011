{
  "nbformat": 4,
  "nbformat_minor": 0,
  "metadata": {
    "colab": {
      "provenance": [],
      "authorship_tag": "ABX9TyMVL68Z8F/r/f7lNP8Sp9QB",
      "include_colab_link": true
    },
    "kernelspec": {
      "name": "python3",
      "display_name": "Python 3"
    },
    "language_info": {
      "name": "python"
    }
  },
  "cells": [
    {
      "cell_type": "markdown",
      "metadata": {
        "id": "view-in-github",
        "colab_type": "text"
      },
      "source": [
        "<a href=\"https://colab.research.google.com/github/Iannbrentte/DSA-58011/blob/main/Long_Quiz_1.ipynb\" target=\"_parent\"><img src=\"https://colab.research.google.com/assets/colab-badge.svg\" alt=\"Open In Colab\"/></a>"
      ]
    },
    {
      "cell_type": "markdown",
      "source": [
        "Array"
      ],
      "metadata": {
        "id": "HMusT7r7QXnS"
      }
    },
    {
      "cell_type": "code",
      "source": [
        "name='Prince Iannbrentte M Buenaobra'\n",
        "\n",
        "print('Prince Iannbrentte M Buenaobra')\n",
        "print('16 vowels')"
      ],
      "metadata": {
        "colab": {
          "base_uri": "https://localhost:8080/"
        },
        "id": "xc6CGFqyS4HD",
        "outputId": "6b98c94e-af8b-4161-cbda-47700101ef74"
      },
      "execution_count": 7,
      "outputs": [
        {
          "output_type": "stream",
          "name": "stdout",
          "text": [
            "Prince Iannbrentte M Buenaobra\n",
            "16 vowels\n"
          ]
        }
      ]
    }
  ]
}