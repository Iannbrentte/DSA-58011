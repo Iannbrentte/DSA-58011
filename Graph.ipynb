{
  "nbformat": 4,
  "nbformat_minor": 0,
  "metadata": {
    "colab": {
      "provenance": [],
      "authorship_tag": "ABX9TyPJ2utMTGcE3XSWA4qAVJ1L",
      "include_colab_link": true
    },
    "kernelspec": {
      "name": "python3",
      "display_name": "Python 3"
    },
    "language_info": {
      "name": "python"
    }
  },
  "cells": [
    {
      "cell_type": "markdown",
      "metadata": {
        "id": "view-in-github",
        "colab_type": "text"
      },
      "source": [
        "<a href=\"https://colab.research.google.com/github/Iannbrentte/DSA-58011/blob/main/Graph.ipynb\" target=\"_parent\"><img src=\"https://colab.research.google.com/assets/colab-badge.svg\" alt=\"Open In Colab\"/></a>"
      ]
    },
    {
      "cell_type": "code",
      "execution_count": 2,
      "metadata": {
        "colab": {
          "base_uri": "https://localhost:8080/"
        },
        "id": "AoM2ZGNnY4Kb",
        "outputId": "ec7c3ae6-0bc3-4fac-f38a-96df70cf2b90"
      },
      "outputs": [
        {
          "output_type": "stream",
          "name": "stdout",
          "text": [
            "{'a': ['b', 'c'], 'b': ['a', 'd'], 'c': ['a', 'd'], 'd': ['b', 'c', 'e'], 'e': ['e']}\n"
          ]
        }
      ],
      "source": [
        "#Data Elements using Dictionaries to implement graphs\n",
        "graph = {\n",
        "    'a':['b', 'c'],\n",
        "    'b':['a','d'],\n",
        "    'c':['a','d'],\n",
        "    'd':['b','c','e'],\n",
        "    'e':['e'],\n",
        "}\n",
        "print(graph)"
      ]
    },
    {
      "cell_type": "code",
      "source": [
        "#Application G20\n",
        "graph = {\n",
        "    '1':['4'],\n",
        "    '2':['1','3','4'],\n",
        "    '3':['2','4'],\n",
        "    '4':['4'],\n",
        "}\n",
        "print(graph)"
      ],
      "metadata": {
        "colab": {
          "base_uri": "https://localhost:8080/"
        },
        "id": "hkDXjTmjdCFP",
        "outputId": "af7b3f5b-2535-40a7-b57f-e51749beefd5"
      },
      "execution_count": 4,
      "outputs": [
        {
          "output_type": "stream",
          "name": "stdout",
          "text": [
            "{'1': ['4'], '2': ['1', '3', '4'], '3': ['2', '4'], '4': ['4']}\n"
          ]
        }
      ]
    },
    {
      "cell_type": "code",
      "source": [
        "#Application G21\n",
        "graph = {\n",
        "    '1':['3','4','5'],\n",
        "    '2':['5'],\n",
        "    '3':['3'],\n",
        "    '4':['2'],\n",
        "    '5':['5']\n",
        "}\n",
        "print(graph)"
      ],
      "metadata": {
        "colab": {
          "base_uri": "https://localhost:8080/"
        },
        "id": "mA4OJ8YljWaK",
        "outputId": "9166f954-6890-4a64-a799-be453ad2cb94"
      },
      "execution_count": 6,
      "outputs": [
        {
          "output_type": "stream",
          "name": "stdout",
          "text": [
            "{'1': ['3', '4', '5'], '2': ['5'], '3': ['3'], '4': ['2'], '5': ['5']}\n"
          ]
        }
      ]
    }
  ]
}