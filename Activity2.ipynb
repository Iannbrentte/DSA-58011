{
  "nbformat": 4,
  "nbformat_minor": 0,
  "metadata": {
    "colab": {
      "provenance": [],
      "authorship_tag": "ABX9TyO3NYW5241t2nPPpg8sKpBy",
      "include_colab_link": true
    },
    "kernelspec": {
      "name": "python3",
      "display_name": "Python 3"
    },
    "language_info": {
      "name": "python"
    }
  },
  "cells": [
    {
      "cell_type": "markdown",
      "metadata": {
        "id": "view-in-github",
        "colab_type": "text"
      },
      "source": [
        "<a href=\"https://colab.research.google.com/github/Iannbrentte/DSA-58011/blob/main/Activity2.ipynb\" target=\"_parent\"><img src=\"https://colab.research.google.com/assets/colab-badge.svg\" alt=\"Open In Colab\"/></a>"
      ]
    },
    {
      "cell_type": "markdown",
      "source": [
        "Activity 2 Single Linked\n",
        "\n",
        "\n"
      ],
      "metadata": {
        "id": "-EBv10cifahl"
      }
    },
    {
      "cell_type": "code",
      "source": [
        "class Node:\n",
        "    def __init__(self, value=None):\n",
        "        self.value = value\n",
        "        self.nextNode = None\n",
        "\n",
        "\n",
        "class LinkedList:\n",
        "    def __init__(self):\n",
        "        self.head = None\n",
        "        self.tail = None\n",
        "\n",
        "    def insert(self, value):\n",
        "        new_node = Node(value)\n",
        "        if not self.head:\n",
        "            self.head = new_node\n",
        "        elif self.tail:\n",
        "            self.tail.nextNode = new_node\n",
        "            self.tail = new_node\n",
        "        else:\n",
        "            self.head.nextNode = new_node\n",
        "            self.tail = new_node\n",
        "\n",
        "\n",
        "list1 = LinkedList()\n",
        "list1.insert(\"A\")\n",
        "list1.insert(\"E\")\n",
        "list1.insert(\"I\")\n",
        "list1.insert(\"O\")\n",
        "list1.insert(\"U\")\n",
        "\n",
        "node = list1.head\n",
        "print('(Head)', end=' -> ')\n",
        "while node:\n",
        "    print(node.value, end=' -> ')\n",
        "    node = node.nextNode\n",
        "print('(Tail)')\n"
      ],
      "metadata": {
        "colab": {
          "base_uri": "https://localhost:8080/"
        },
        "id": "UytAPxQ2gshD",
        "outputId": "8f13b34d-b992-417c-d971-3ae7df66327f"
      },
      "execution_count": 10,
      "outputs": [
        {
          "output_type": "stream",
          "name": "stdout",
          "text": [
            "(Head) -> A -> E -> I -> O -> U -> (Tail)\n"
          ]
        }
      ]
    }
  ]
}