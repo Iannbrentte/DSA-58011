{
  "nbformat": 4,
  "nbformat_minor": 0,
  "metadata": {
    "colab": {
      "provenance": [],
      "authorship_tag": "ABX9TyMpp/sUyAvu1VC0aCWm9C8c",
      "include_colab_link": true
    },
    "kernelspec": {
      "name": "python3",
      "display_name": "Python 3"
    },
    "language_info": {
      "name": "python"
    }
  },
  "cells": [
    {
      "cell_type": "markdown",
      "metadata": {
        "id": "view-in-github",
        "colab_type": "text"
      },
      "source": [
        "<a href=\"https://colab.research.google.com/github/Iannbrentte/DSA-58011/blob/main/Final_Exam.ipynb\" target=\"_parent\"><img src=\"https://colab.research.google.com/assets/colab-badge.svg\" alt=\"Open In Colab\"/></a>"
      ]
    },
    {
      "cell_type": "code",
      "execution_count": 18,
      "metadata": {
        "colab": {
          "base_uri": "https://localhost:8080/"
        },
        "id": "Ly40g5HltVd6",
        "outputId": "6d3b2e3c-defa-44b3-8abe-4a537b53a0ea"
      },
      "outputs": [
        {
          "output_type": "stream",
          "name": "stdout",
          "text": [
            "9\n",
            "8\n",
            "7\n",
            "6\n",
            "5\n",
            "4\n",
            "3\n",
            "2\n",
            "8 composite numbers\n"
          ]
        }
      ],
      "source": [
        " \n",
        "class LinkedList:\n",
        "    def __init__(self):\n",
        "        self.head = None\n",
        "        self.tail = None\n",
        "\n",
        "    def insert(self, value):\n",
        "        new_node = Node(value)\n",
        "        if not self.head:\n",
        "            self.head = new_node\n",
        "        elif self.tail:\n",
        "            self.tail.nextNode = new_node\n",
        "            self.tail = new_node\n",
        "        else:\n",
        "            self.head.nextNode = new_node\n",
        "            self.tail = new_node\n",
        "\n",
        "\n",
        "list1 = LinkedList()\n",
        "list1.insert(\"9\")\n",
        "list1.insert(\"8\")\n",
        "list1.insert(\"7\")\n",
        "list1.insert(\"6\")\n",
        "list1.insert(\"5\")\n",
        "list1.insert(\"4\")\n",
        "list1.insert(\"3\")\n",
        "list1.insert(\"2\") \n",
        "\n",
        "node = list1.head\n",
        "print\n",
        "while node:\n",
        "    print(node.value,)\n",
        "    node = node.nextNode\n",
        "print('8 composite numbers')\n"
      ]
    }
  ]
}